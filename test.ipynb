{
 "cells": [
  {
   "cell_type": "markdown",
   "metadata": {},
   "source": [
    "# An introduction to Jupyter Notebook\n",
    "*Written by Michelle Leonard.*       \n",
    "*Thank you to Swarthmore CPSC 66: Machine Learning, whose Lab 0 served as the basis for this document.*\n",
    "\n",
    "Welcome to the notebook! Jupyter Notebooks are a specialized file format (`.ipynb`, for **i**nteractive **py**thon **n**ote**b**ook) that can integrate text, code, and images all in one document.\n",
    "\n",
    "To interactively run this Jupyter Notebook, you have two options:\n",
    "1. Activate a virtual environment. Then, run the command `jupyter notebook` in your terminal, which will launch a browser instance of Jupyter Notebook.\n",
    "2. Open the notebook in the programming environment of your choice, such as VS code."
   ]
  },
  {
   "cell_type": "markdown",
   "metadata": {},
   "source": [
    "### Cells\n",
    "The basic unit of a Jupyter Notebook is called a 'cell.' This current cell is written in Markdown, or formatted text."
   ]
  },
  {
   "cell_type": "code",
   "execution_count": 1,
   "metadata": {},
   "outputs": [
    {
     "name": "stdout",
     "output_type": "stream",
     "text": [
      "Press shift + enter to run a cell.\n"
     ]
    }
   ],
   "source": [
    "#This cell is written in Python.\n",
    "b = 3\n",
    "print('Press shift + enter to run a cell.')"
   ]
  },
  {
   "cell_type": "markdown",
   "metadata": {},
   "source": [
    "*Double-clicking* a Markdown cell will allow you to enter edit mode. Try this now.\n",
    "\n",
    "In edit mode, you can see and change underlying Markdown formatting. Markdown is very flexible:\n",
    "\n",
    "#### Things you can do in Markdown\n",
    "1. Format lists (like this one!)\n",
    "2. Modify text    \n",
    "   a. **bold**    \n",
    "   b. *italicized*      \n",
    "   c. ***both***    \n",
    "   d. ~~strikethrough~~    \n",
    "   e. `monospace` (great for code fragments!)\n",
    "3. Escape formatting with `\\`    \n",
    "   a. \\*no longer italicized*\n",
    "4. Write inline mathematical equations using $\\LaTeX$ formatting                          \n",
    "   a. $\\sum\\limits_{n=1}^{\\infty} = \\frac{1}{n}$\n",
    "5. And much more! Try playing around with some of these by editing this cell.\n",
    "\n",
    "Run a Markdown cell the same way you ran the last code cell&mdash;typing `shift + enter`&mdash;to prettify it and exit edit mode."
   ]
  },
  {
   "cell_type": "markdown",
   "metadata": {},
   "source": [
    "### Running and pausing\n",
    "Jupyter Notebooks are great at demonstrating how a piece of code works line by line.\n",
    "\n",
    "Because Python is an interpreted language, it can read, interpret, and execute code live as it runs. This is as opposed to a compiled language, like the C family, which reads the entire program before running it.\n",
    "\n",
    "What does this mean for you? Well, try running the following code segment:"
   ]
  },
  {
   "cell_type": "code",
   "execution_count": 2,
   "metadata": {},
   "outputs": [
    {
     "data": {
      "text/plain": [
       "3"
      ]
     },
     "execution_count": 2,
     "metadata": {},
     "output_type": "execute_result"
    }
   ],
   "source": [
    "b\n",
    "\n",
    "#Python will display the value that an expression evaluates to, even if the line isn't a command per se."
   ]
  },
  {
   "cell_type": "markdown",
   "metadata": {},
   "source": [
    "Notice how the value of `b` persists from earlier? Jupyter Notebook remembers previous variables. This means you can intersperse code with text, or move through it bit by bit, and have it still successfully run.\n",
    "\n",
    "This *can* cause issues if you're not careful. Let's say I want to create a list, and my imagination fails me, so I name it `b`:"
   ]
  },
  {
   "cell_type": "code",
   "execution_count": 3,
   "metadata": {},
   "outputs": [
    {
     "name": "stdout",
     "output_type": "stream",
     "text": [
      "[2, 4, 6, 8, 10]\n"
     ]
    }
   ],
   "source": [
    "#Some list stuff\n",
    "b = [1, 2, 3, 4, 5]\n",
    "modified_b = [x*2 for x in b]\n",
    "print(modified_b)"
   ]
  },
  {
   "cell_type": "markdown",
   "metadata": {},
   "source": [
    "Cool, cool. Now what if I want to come back to my `b` variable from earlier? Let's run the following cell and see."
   ]
  },
  {
   "cell_type": "code",
   "execution_count": 4,
   "metadata": {},
   "outputs": [
    {
     "ename": "TypeError",
     "evalue": "'int' object is not iterable",
     "output_type": "error",
     "traceback": [
      "\u001b[0;31m---------------------------------------------------------------------------\u001b[0m",
      "\u001b[0;31mTypeError\u001b[0m                                 Traceback (most recent call last)",
      "Cell \u001b[0;32mIn[4], line 1\u001b[0m\n\u001b[0;32m----> 1\u001b[0m \u001b[38;5;28mprint\u001b[39m(\u001b[38;5;28;43msum\u001b[39;49m\u001b[43m(\u001b[49m\u001b[38;5;241;43m3\u001b[39;49m\u001b[43m,\u001b[49m\u001b[43m \u001b[49m\u001b[43mb\u001b[49m\u001b[43m)\u001b[49m)\n",
      "\u001b[0;31mTypeError\u001b[0m: 'int' object is not iterable"
     ]
    }
   ],
   "source": [
    "print(sum(3, b))"
   ]
  },
  {
   "cell_type": "markdown",
   "metadata": {},
   "source": [
    "As you might expect, this results in an error. 'b' used to be typed as an integer, which we could add with another number, but we overrided that by defining it as a list, which is an invalid argument to sum().\n",
    "Be careful about reusing variable names in longer documents!"
   ]
  },
  {
   "cell_type": "markdown",
   "metadata": {},
   "source": [
    "### Inserting images"
   ]
  },
  {
   "cell_type": "markdown",
   "metadata": {},
   "source": [
    "A common application for Jupyter Notebook is data science, which often uses a mix of code, written text, and charts. Conveniently, Jupyter Notebook permits direct embedding of images in Markdown cells:\n",
    "\n",
    "![An image of two chevrotains, a mother and her much smaller child. They are walking together in the natural environment. A log and some rocks are visible in the background](https://raw.githubusercontent.com/michelle-leonard-256/jupyter-tutorial/refs/heads/main/89cse79imrh51.jpg)"
   ]
  },
  {
   "cell_type": "markdown",
   "metadata": {},
   "source": [
    "That's it. I'll add more if I think of anything useful."
   ]
  }
 ],
 "metadata": {
  "kernelspec": {
   "display_name": "Python 3 (ipykernel)",
   "language": "python",
   "name": "python3"
  },
  "language_info": {
   "codemirror_mode": {
    "name": "ipython",
    "version": 3
   },
   "file_extension": ".py",
   "mimetype": "text/x-python",
   "name": "python",
   "nbconvert_exporter": "python",
   "pygments_lexer": "ipython3",
   "version": "3.12.3"
  }
 },
 "nbformat": 4,
 "nbformat_minor": 4
}
